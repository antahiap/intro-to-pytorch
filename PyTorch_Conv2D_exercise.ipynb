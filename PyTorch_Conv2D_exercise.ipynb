{
  "cells": [
    {
      "cell_type": "markdown",
      "metadata": {
        "id": "Og4H_xMW0_l7"
      },
      "source": [
        "# Conv2D exercises\n",
        "\n",
        "https://pytorch.org/docs/stable/generated/torch.nn.Conv2d.html\n",
        "\n",
        "* Create 10 images with shape (1, 28, 28).\n",
        "* Build 6 convolutional filters of size (3, 3)\n",
        "  * with stride first set to 1, then set to 2 \n",
        "  * padding first set to 1, and then set to 0.\n",
        "* Apply the filters in the image and print the shape of the feature map.\n",
        "\n",
        "\n",
        "\n",
        "The arguments in `Conv2d` are `in_channels`, `out_channels`, `kernel_size`, `stride`, and `padding`.\n",
        "\n",
        "The number of in_channels is 1, while the number of `out_channels` is 6."
      ]
    },
    {
      "cell_type": "code",
      "execution_count": 5,
      "metadata": {},
      "outputs": [],
      "source": [
        "import torch"
      ]
    },
    {
      "cell_type": "code",
      "execution_count": 6,
      "metadata": {
        "colab": {
          "base_uri": "https://localhost:8080/",
          "height": 131
        },
        "id": "hkxE89z407Pq",
        "outputId": "34484084-cfe2-4efe-fe60-2cb2e1c9c160"
      },
      "outputs": [
        {
          "name": "stdout",
          "output_type": "stream",
          "text": [
            "torch.Size([30, 6, 14, 14])\n"
          ]
        }
      ],
      "source": [
        "# Create 30 random matrices (\"images\") of shape (1, 28, 28)\n",
        "images = torch.rand(30, 1, 28, 28)\n",
        "\n",
        "# Build 6 conv. filters of 3x3\n",
        "conv_filters = torch.nn.Conv2d(in_channels=1, out_channels=6, kernel_size=3, stride=2, padding=1)\n",
        "\n",
        "# Convolve the image with the filters \n",
        "output_feature = conv_filters(images)\n",
        "# what is the dimension of the output tensor? \n",
        "print(output_feature.shape)"
      ]
    },
    {
      "cell_type": "code",
      "execution_count": 6,
      "metadata": {
        "colab": {
          "base_uri": "https://localhost:8080/"
        },
        "id": "gxzLEGYI0uce",
        "outputId": "55e5930e-469a-4bc4-a4e8-217015883658"
      },
      "outputs": [
        {
          "name": "stdout",
          "output_type": "stream",
          "text": [
            "torch.Size([10, 6, 14, 14])\n"
          ]
        }
      ],
      "source": [
        "import torch\n",
        "# Create 30 random images of shape (1, 28, 28)\n",
        "images = torch.rand(10, 1, 28, 28)\n",
        "\n",
        "# Build 6 conv. filters\n",
        "conv_filters = torch.nn.Conv2d(in_channels=1, out_channels=6, kernel_size=3, \n",
        "                               stride=2, padding=1)\n",
        "\n",
        "# Convolve the image with the filters\n",
        "output_feature = conv_filters(images)\n",
        "# what is the dimension of the output tensor? \n",
        "print(output_feature.shape)"
      ]
    },
    {
      "cell_type": "code",
      "execution_count": 9,
      "metadata": {},
      "outputs": [
        {
          "ename": "ModuleNotFoundError",
          "evalue": "No module named 'PLI'",
          "output_type": "error",
          "traceback": [
            "\u001b[0;31m---------------------------------------------------------------------------\u001b[0m",
            "\u001b[0;31mModuleNotFoundError\u001b[0m                       Traceback (most recent call last)",
            "Cell \u001b[0;32mIn[9], line 4\u001b[0m\n\u001b[1;32m      2\u001b[0m \u001b[39mimport\u001b[39;00m \u001b[39mskimage\u001b[39;00m \u001b[39mas\u001b[39;00m \u001b[39mskimage\u001b[39;00m\n\u001b[1;32m      3\u001b[0m \u001b[39m# import scikit-image as skimage\u001b[39;00m\n\u001b[0;32m----> 4\u001b[0m \u001b[39mfrom\u001b[39;00m \u001b[39mPLI\u001b[39;00m \u001b[39mimport\u001b[39;00m Image\n\u001b[1;32m      6\u001b[0m img \u001b[39m=\u001b[39m Image\u001b[39m.\u001b[39mfromarray(io\u001b[39m.\u001b[39mimread(\u001b[39m'\u001b[39m\u001b[39mhttps://media.geeksforgeeks.org/wp-content/uploads/20210420115223/Koalainputimage.jpg\u001b[39m\u001b[39m'\u001b[39m))\n\u001b[1;32m      7\u001b[0m img\n",
            "\u001b[0;31mModuleNotFoundError\u001b[0m: No module named 'PLI'"
          ]
        }
      ],
      "source": [
        "import numpy as np\n",
        "import skimage as skimage\n",
        "# import scikit-image as skimage\n",
        "from PLI import Image\n",
        "\n",
        "img = Image.fromarray(io.imread('https://media.geeksforgeeks.org/wp-content/uploads/20210420115223/Koalainputimage.jpg'))\n",
        "img"
      ]
    }
  ],
  "metadata": {
    "colab": {
      "name": "PyTorch Conv2D.ipynb",
      "provenance": []
    },
    "kernelspec": {
      "display_name": "Python 3",
      "name": "python3"
    },
    "language_info": {
      "codemirror_mode": {
        "name": "ipython",
        "version": 3
      },
      "file_extension": ".py",
      "mimetype": "text/x-python",
      "name": "python",
      "nbconvert_exporter": "python",
      "pygments_lexer": "ipython3",
      "version": "3.8.17"
    }
  },
  "nbformat": 4,
  "nbformat_minor": 0
}
